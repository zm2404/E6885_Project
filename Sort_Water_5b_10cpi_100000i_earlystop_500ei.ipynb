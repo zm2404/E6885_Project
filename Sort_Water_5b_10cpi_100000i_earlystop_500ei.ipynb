{
  "cells": [
    {
      "cell_type": "code",
      "execution_count": 1,
      "metadata": {
        "id": "BlI8iHgEP1wB",
        "colab": {
          "base_uri": "https://localhost:8080/"
        },
        "outputId": "d38f2df4-f9d6-4bef-fd12-e21a073699ca"
      },
      "outputs": [
        {
          "output_type": "stream",
          "name": "stdout",
          "text": [
            "Requirement already satisfied: tf_agents in /usr/local/lib/python3.10/dist-packages (0.18.0)\n",
            "Requirement already satisfied: absl-py>=0.6.1 in /usr/local/lib/python3.10/dist-packages (from tf_agents) (1.4.0)\n",
            "Requirement already satisfied: cloudpickle>=1.3 in /usr/local/lib/python3.10/dist-packages (from tf_agents) (2.2.1)\n",
            "Requirement already satisfied: gin-config>=0.4.0 in /usr/local/lib/python3.10/dist-packages (from tf_agents) (0.5.0)\n",
            "Requirement already satisfied: gym<=0.23.0,>=0.17.0 in /usr/local/lib/python3.10/dist-packages (from tf_agents) (0.23.0)\n",
            "Requirement already satisfied: numpy>=1.19.0 in /usr/local/lib/python3.10/dist-packages (from tf_agents) (1.23.5)\n",
            "Requirement already satisfied: pillow in /usr/local/lib/python3.10/dist-packages (from tf_agents) (9.4.0)\n",
            "Requirement already satisfied: six>=1.10.0 in /usr/local/lib/python3.10/dist-packages (from tf_agents) (1.16.0)\n",
            "Requirement already satisfied: protobuf>=3.11.3 in /usr/local/lib/python3.10/dist-packages (from tf_agents) (3.20.3)\n",
            "Requirement already satisfied: wrapt>=1.11.1 in /usr/local/lib/python3.10/dist-packages (from tf_agents) (1.14.1)\n",
            "Requirement already satisfied: typing-extensions>=3.7.4.3 in /usr/local/lib/python3.10/dist-packages (from tf_agents) (4.5.0)\n",
            "Requirement already satisfied: pygame==2.1.3 in /usr/local/lib/python3.10/dist-packages (from tf_agents) (2.1.3)\n",
            "Requirement already satisfied: tensorflow-probability~=0.22.0 in /usr/local/lib/python3.10/dist-packages (from tf_agents) (0.22.0)\n",
            "Requirement already satisfied: gym-notices>=0.0.4 in /usr/local/lib/python3.10/dist-packages (from gym<=0.23.0,>=0.17.0->tf_agents) (0.0.8)\n",
            "Requirement already satisfied: decorator in /usr/local/lib/python3.10/dist-packages (from tensorflow-probability~=0.22.0->tf_agents) (4.4.2)\n",
            "Requirement already satisfied: gast>=0.3.2 in /usr/local/lib/python3.10/dist-packages (from tensorflow-probability~=0.22.0->tf_agents) (0.5.4)\n",
            "Requirement already satisfied: dm-tree in /usr/local/lib/python3.10/dist-packages (from tensorflow-probability~=0.22.0->tf_agents) (0.1.8)\n",
            "Requirement already satisfied: tf-agents[reverb] in /usr/local/lib/python3.10/dist-packages (0.18.0)\n",
            "Requirement already satisfied: absl-py>=0.6.1 in /usr/local/lib/python3.10/dist-packages (from tf-agents[reverb]) (1.4.0)\n",
            "Requirement already satisfied: cloudpickle>=1.3 in /usr/local/lib/python3.10/dist-packages (from tf-agents[reverb]) (2.2.1)\n",
            "Requirement already satisfied: gin-config>=0.4.0 in /usr/local/lib/python3.10/dist-packages (from tf-agents[reverb]) (0.5.0)\n",
            "Requirement already satisfied: gym<=0.23.0,>=0.17.0 in /usr/local/lib/python3.10/dist-packages (from tf-agents[reverb]) (0.23.0)\n",
            "Requirement already satisfied: numpy>=1.19.0 in /usr/local/lib/python3.10/dist-packages (from tf-agents[reverb]) (1.23.5)\n",
            "Requirement already satisfied: pillow in /usr/local/lib/python3.10/dist-packages (from tf-agents[reverb]) (9.4.0)\n",
            "Requirement already satisfied: six>=1.10.0 in /usr/local/lib/python3.10/dist-packages (from tf-agents[reverb]) (1.16.0)\n",
            "Requirement already satisfied: protobuf>=3.11.3 in /usr/local/lib/python3.10/dist-packages (from tf-agents[reverb]) (3.20.3)\n",
            "Requirement already satisfied: wrapt>=1.11.1 in /usr/local/lib/python3.10/dist-packages (from tf-agents[reverb]) (1.14.1)\n",
            "Requirement already satisfied: typing-extensions>=3.7.4.3 in /usr/local/lib/python3.10/dist-packages (from tf-agents[reverb]) (4.5.0)\n",
            "Requirement already satisfied: pygame==2.1.3 in /usr/local/lib/python3.10/dist-packages (from tf-agents[reverb]) (2.1.3)\n",
            "Requirement already satisfied: tensorflow-probability~=0.22.0 in /usr/local/lib/python3.10/dist-packages (from tf-agents[reverb]) (0.22.0)\n",
            "Requirement already satisfied: rlds in /usr/local/lib/python3.10/dist-packages (from tf-agents[reverb]) (0.1.8)\n",
            "Requirement already satisfied: dm-reverb~=0.13.0 in /usr/local/lib/python3.10/dist-packages (from tf-agents[reverb]) (0.13.0)\n",
            "Requirement already satisfied: tensorflow~=2.14.0 in /usr/local/lib/python3.10/dist-packages (from tf-agents[reverb]) (2.14.0)\n",
            "Requirement already satisfied: dm-tree in /usr/local/lib/python3.10/dist-packages (from dm-reverb~=0.13.0->tf-agents[reverb]) (0.1.8)\n",
            "Requirement already satisfied: portpicker in /usr/local/lib/python3.10/dist-packages (from dm-reverb~=0.13.0->tf-agents[reverb]) (1.5.2)\n",
            "Requirement already satisfied: gym-notices>=0.0.4 in /usr/local/lib/python3.10/dist-packages (from gym<=0.23.0,>=0.17.0->tf-agents[reverb]) (0.0.8)\n",
            "Requirement already satisfied: astunparse>=1.6.0 in /usr/local/lib/python3.10/dist-packages (from tensorflow~=2.14.0->tf-agents[reverb]) (1.6.3)\n",
            "Requirement already satisfied: flatbuffers>=23.5.26 in /usr/local/lib/python3.10/dist-packages (from tensorflow~=2.14.0->tf-agents[reverb]) (23.5.26)\n",
            "Requirement already satisfied: gast!=0.5.0,!=0.5.1,!=0.5.2,>=0.2.1 in /usr/local/lib/python3.10/dist-packages (from tensorflow~=2.14.0->tf-agents[reverb]) (0.5.4)\n",
            "Requirement already satisfied: google-pasta>=0.1.1 in /usr/local/lib/python3.10/dist-packages (from tensorflow~=2.14.0->tf-agents[reverb]) (0.2.0)\n",
            "Requirement already satisfied: h5py>=2.9.0 in /usr/local/lib/python3.10/dist-packages (from tensorflow~=2.14.0->tf-agents[reverb]) (3.9.0)\n",
            "Requirement already satisfied: libclang>=13.0.0 in /usr/local/lib/python3.10/dist-packages (from tensorflow~=2.14.0->tf-agents[reverb]) (16.0.6)\n",
            "Requirement already satisfied: ml-dtypes==0.2.0 in /usr/local/lib/python3.10/dist-packages (from tensorflow~=2.14.0->tf-agents[reverb]) (0.2.0)\n",
            "Requirement already satisfied: opt-einsum>=2.3.2 in /usr/local/lib/python3.10/dist-packages (from tensorflow~=2.14.0->tf-agents[reverb]) (3.3.0)\n",
            "Requirement already satisfied: packaging in /usr/local/lib/python3.10/dist-packages (from tensorflow~=2.14.0->tf-agents[reverb]) (23.2)\n",
            "Requirement already satisfied: setuptools in /usr/local/lib/python3.10/dist-packages (from tensorflow~=2.14.0->tf-agents[reverb]) (67.7.2)\n",
            "Requirement already satisfied: termcolor>=1.1.0 in /usr/local/lib/python3.10/dist-packages (from tensorflow~=2.14.0->tf-agents[reverb]) (2.4.0)\n",
            "Requirement already satisfied: tensorflow-io-gcs-filesystem>=0.23.1 in /usr/local/lib/python3.10/dist-packages (from tensorflow~=2.14.0->tf-agents[reverb]) (0.34.0)\n",
            "Requirement already satisfied: grpcio<2.0,>=1.24.3 in /usr/local/lib/python3.10/dist-packages (from tensorflow~=2.14.0->tf-agents[reverb]) (1.59.3)\n",
            "Requirement already satisfied: tensorboard<2.15,>=2.14 in /usr/local/lib/python3.10/dist-packages (from tensorflow~=2.14.0->tf-agents[reverb]) (2.14.1)\n",
            "Requirement already satisfied: tensorflow-estimator<2.15,>=2.14.0 in /usr/local/lib/python3.10/dist-packages (from tensorflow~=2.14.0->tf-agents[reverb]) (2.14.0)\n",
            "Requirement already satisfied: keras<2.15,>=2.14.0 in /usr/local/lib/python3.10/dist-packages (from tensorflow~=2.14.0->tf-agents[reverb]) (2.14.0)\n",
            "Requirement already satisfied: decorator in /usr/local/lib/python3.10/dist-packages (from tensorflow-probability~=0.22.0->tf-agents[reverb]) (4.4.2)\n",
            "Requirement already satisfied: wheel<1.0,>=0.23.0 in /usr/local/lib/python3.10/dist-packages (from astunparse>=1.6.0->tensorflow~=2.14.0->tf-agents[reverb]) (0.42.0)\n",
            "Requirement already satisfied: google-auth<3,>=1.6.3 in /usr/local/lib/python3.10/dist-packages (from tensorboard<2.15,>=2.14->tensorflow~=2.14.0->tf-agents[reverb]) (2.17.3)\n",
            "Requirement already satisfied: google-auth-oauthlib<1.1,>=0.5 in /usr/local/lib/python3.10/dist-packages (from tensorboard<2.15,>=2.14->tensorflow~=2.14.0->tf-agents[reverb]) (1.0.0)\n",
            "Requirement already satisfied: markdown>=2.6.8 in /usr/local/lib/python3.10/dist-packages (from tensorboard<2.15,>=2.14->tensorflow~=2.14.0->tf-agents[reverb]) (3.5.1)\n",
            "Requirement already satisfied: requests<3,>=2.21.0 in /usr/local/lib/python3.10/dist-packages (from tensorboard<2.15,>=2.14->tensorflow~=2.14.0->tf-agents[reverb]) (2.31.0)\n",
            "Requirement already satisfied: tensorboard-data-server<0.8.0,>=0.7.0 in /usr/local/lib/python3.10/dist-packages (from tensorboard<2.15,>=2.14->tensorflow~=2.14.0->tf-agents[reverb]) (0.7.2)\n",
            "Requirement already satisfied: werkzeug>=1.0.1 in /usr/local/lib/python3.10/dist-packages (from tensorboard<2.15,>=2.14->tensorflow~=2.14.0->tf-agents[reverb]) (3.0.1)\n",
            "Requirement already satisfied: psutil in /usr/local/lib/python3.10/dist-packages (from portpicker->dm-reverb~=0.13.0->tf-agents[reverb]) (5.9.5)\n",
            "Requirement already satisfied: cachetools<6.0,>=2.0.0 in /usr/local/lib/python3.10/dist-packages (from google-auth<3,>=1.6.3->tensorboard<2.15,>=2.14->tensorflow~=2.14.0->tf-agents[reverb]) (5.3.2)\n",
            "Requirement already satisfied: pyasn1-modules>=0.2.1 in /usr/local/lib/python3.10/dist-packages (from google-auth<3,>=1.6.3->tensorboard<2.15,>=2.14->tensorflow~=2.14.0->tf-agents[reverb]) (0.3.0)\n",
            "Requirement already satisfied: rsa<5,>=3.1.4 in /usr/local/lib/python3.10/dist-packages (from google-auth<3,>=1.6.3->tensorboard<2.15,>=2.14->tensorflow~=2.14.0->tf-agents[reverb]) (4.9)\n",
            "Requirement already satisfied: requests-oauthlib>=0.7.0 in /usr/local/lib/python3.10/dist-packages (from google-auth-oauthlib<1.1,>=0.5->tensorboard<2.15,>=2.14->tensorflow~=2.14.0->tf-agents[reverb]) (1.3.1)\n",
            "Requirement already satisfied: charset-normalizer<4,>=2 in /usr/local/lib/python3.10/dist-packages (from requests<3,>=2.21.0->tensorboard<2.15,>=2.14->tensorflow~=2.14.0->tf-agents[reverb]) (3.3.2)\n",
            "Requirement already satisfied: idna<4,>=2.5 in /usr/local/lib/python3.10/dist-packages (from requests<3,>=2.21.0->tensorboard<2.15,>=2.14->tensorflow~=2.14.0->tf-agents[reverb]) (3.6)\n",
            "Requirement already satisfied: urllib3<3,>=1.21.1 in /usr/local/lib/python3.10/dist-packages (from requests<3,>=2.21.0->tensorboard<2.15,>=2.14->tensorflow~=2.14.0->tf-agents[reverb]) (2.0.7)\n",
            "Requirement already satisfied: certifi>=2017.4.17 in /usr/local/lib/python3.10/dist-packages (from requests<3,>=2.21.0->tensorboard<2.15,>=2.14->tensorflow~=2.14.0->tf-agents[reverb]) (2023.11.17)\n",
            "Requirement already satisfied: MarkupSafe>=2.1.1 in /usr/local/lib/python3.10/dist-packages (from werkzeug>=1.0.1->tensorboard<2.15,>=2.14->tensorflow~=2.14.0->tf-agents[reverb]) (2.1.3)\n",
            "Requirement already satisfied: pyasn1<0.6.0,>=0.4.6 in /usr/local/lib/python3.10/dist-packages (from pyasn1-modules>=0.2.1->google-auth<3,>=1.6.3->tensorboard<2.15,>=2.14->tensorflow~=2.14.0->tf-agents[reverb]) (0.5.1)\n",
            "Requirement already satisfied: oauthlib>=3.0.0 in /usr/local/lib/python3.10/dist-packages (from requests-oauthlib>=0.7.0->google-auth-oauthlib<1.1,>=0.5->tensorboard<2.15,>=2.14->tensorflow~=2.14.0->tf-agents[reverb]) (3.2.2)\n"
          ]
        }
      ],
      "source": [
        "!pip install tf_agents\n",
        "!pip install tf-agents[reverb]"
      ]
    },
    {
      "cell_type": "code",
      "execution_count": 2,
      "metadata": {
        "id": "CLWWFFWwP-Fk"
      },
      "outputs": [],
      "source": [
        "import tensorflow as tf\n",
        "import tf_agents\n",
        "import reverb\n",
        "import numpy as np\n",
        "import matplotlib\n",
        "import matplotlib.pyplot as plt\n",
        "import tempfile\n",
        "import os\n",
        "\n",
        "\n",
        "\n",
        "from tf_agents.drivers import py_driver\n",
        "from tf_agents.agents.dqn import dqn_agent\n",
        "from tf_agents.environments import tf_py_environment\n",
        "from tf_agents.specs import tensor_spec\n",
        "from tf_agents.networks import q_network\n",
        "from tf_agents.networks import sequential\n",
        "from tf_agents.utils import common\n",
        "from tf_agents.replay_buffers import reverb_replay_buffer\n",
        "from tf_agents.replay_buffers import reverb_utils\n",
        "from tf_agents.policies import py_tf_eager_policy\n",
        "from tf_agents.policies import epsilon_greedy_policy\n",
        "from tf_agents.policies import policy_saver\n",
        "\n",
        "\n",
        "\n",
        "\n",
        "import sys\n",
        "sys.path.append('/content/drive/MyDrive/E6885_Project')\n",
        "import SortWaterEnv"
      ]
    },
    {
      "cell_type": "code",
      "source": [
        "tf.version.VERSION"
      ],
      "metadata": {
        "id": "S7-5FyITqOTK",
        "colab": {
          "base_uri": "https://localhost:8080/",
          "height": 35
        },
        "outputId": "da382c13-d1f2-41f0-99ce-78a179c4f58c"
      },
      "execution_count": 3,
      "outputs": [
        {
          "output_type": "execute_result",
          "data": {
            "text/plain": [
              "'2.14.0'"
            ],
            "application/vnd.google.colaboratory.intrinsic+json": {
              "type": "string"
            }
          },
          "metadata": {},
          "execution_count": 3
        }
      ]
    },
    {
      "cell_type": "code",
      "execution_count": 4,
      "metadata": {
        "id": "meuuIXmuQLEW"
      },
      "outputs": [],
      "source": [
        "num_iterations = 100000        #\n",
        "\n",
        "initial_collect_steps = 100     #\n",
        "collect_steps_per_iteration = 10#2#1   #\n",
        "replay_buffer_max_length = 100000  #\n",
        "\n",
        "batch_size = 64            #\n",
        "learning_rate = 1e-3        #\n",
        "log_interval = 200          #\n",
        "\n",
        "num_eval_episodes = 100        #\n",
        "eval_interval = 500#1000        #"
      ]
    },
    {
      "cell_type": "code",
      "execution_count": 5,
      "metadata": {
        "id": "_Be0fVlSQM1w"
      },
      "outputs": [],
      "source": [
        "############# create training and evaluation environment #############\n",
        "num_bottles = 5\n",
        "water_level = 4\n",
        "env = SortWaterEnv.WaterSortEnv(num_bottles=num_bottles, water_level=water_level, random_init=True)\n",
        "train_py_env = SortWaterEnv.WaterSortEnv(num_bottles=num_bottles, water_level=water_level, random_init=True)\n",
        "eval_py_env = SortWaterEnv.WaterSortEnv(num_bottles=num_bottles, water_level=water_level, random_init=True)\n",
        "\n",
        "train_env = tf_py_environment.TFPyEnvironment(train_py_env)\n",
        "eval_env = tf_py_environment.TFPyEnvironment(eval_py_env)"
      ]
    },
    {
      "cell_type": "code",
      "execution_count": 6,
      "metadata": {
        "id": "KSsS5sENQQa2"
      },
      "outputs": [],
      "source": [
        "############ create a DQN agent ############\n",
        "fc_layer_params = (100, 50)\n",
        "action_tensor_spec = tensor_spec.from_spec(env.action_spec())\n",
        "num_actions = action_tensor_spec.maximum - action_tensor_spec.minimum + 1"
      ]
    },
    {
      "cell_type": "code",
      "execution_count": 7,
      "metadata": {
        "id": "jddUDIr2QSTO"
      },
      "outputs": [],
      "source": [
        "# Customized Q netword\n",
        "class MaskedQNetwork(q_network.QNetwork):\n",
        "  def __init__(self, input_tensor_spec, action_spec, fc_layer_params=(100,), **kwargs):\n",
        "    # 从 input_tensor_spec 元组中提取观察值规格\n",
        "    observation_spec = input_tensor_spec[0]\n",
        "\n",
        "    # 调用基类的构造函数以构建网络\n",
        "    super(MaskedQNetwork, self).__init__(observation_spec, action_spec, fc_layer_params=fc_layer_params, **kwargs)\n",
        "\n",
        "  def call(self, observation, step_type=None, network_state=(), training=False):\n",
        "    # 直接调用父类的 call 方法，处理观察值\n",
        "    return super(MaskedQNetwork, self).call(\n",
        "        observation, step_type, network_state, training)"
      ]
    },
    {
      "cell_type": "code",
      "execution_count": 8,
      "metadata": {
        "id": "rqi6-5F7RG-n"
      },
      "outputs": [],
      "source": [
        "observation_spec = train_env.observation_spec()\n",
        "action_spec = train_env.action_spec()\n",
        "\n",
        "# create Q-network\n",
        "q_net = MaskedQNetwork(\n",
        "    (observation_spec['observation'], observation_spec['action_mask']),\n",
        "    action_spec,\n",
        "    fc_layer_params=fc_layer_params\n",
        ")"
      ]
    },
    {
      "cell_type": "code",
      "execution_count": 9,
      "metadata": {
        "id": "jMoFiViiC7NV"
      },
      "outputs": [],
      "source": [
        "def observation_and_action_constraint_splitter(obs):\n",
        "\treturn obs['observation'], obs['action_mask']"
      ]
    },
    {
      "cell_type": "code",
      "execution_count": 10,
      "metadata": {
        "id": "qI_nu75uRRqe"
      },
      "outputs": [],
      "source": [
        "optimizer = tf.keras.optimizers.Adam(learning_rate=learning_rate)\n",
        "\n",
        "train_step_counter = tf.Variable(0)\n",
        "\n",
        "agent = dqn_agent.DqnAgent(\n",
        "    train_env.time_step_spec(),\n",
        "    train_env.action_spec(),\n",
        "    q_network=q_net,\n",
        "    optimizer=optimizer,\n",
        "    td_errors_loss_fn=common.element_wise_squared_loss,\n",
        "    train_step_counter=train_step_counter,\n",
        "    observation_and_action_constraint_splitter=observation_and_action_constraint_splitter\n",
        ")"
      ]
    },
    {
      "cell_type": "code",
      "execution_count": 11,
      "metadata": {
        "id": "1AhbI3ZfbFpm"
      },
      "outputs": [],
      "source": [
        "# an example, just to show what policies are used during evaluation and collecting\n",
        "eval_policy = agent.policy\n",
        "collect_policy = agent.collect_policy"
      ]
    },
    {
      "cell_type": "code",
      "execution_count": 12,
      "metadata": {
        "id": "sH_fIsadbICb"
      },
      "outputs": [],
      "source": [
        "# an example, just show how to create epsilon_greedy_policy. Not to be used\n",
        "base_policy = agent.policy\n",
        "epsilon = 0.1  # 例如，使用 0.1 作为 epsilon 值\n",
        "epsilon_greedy_policy = epsilon_greedy_policy.EpsilonGreedyPolicy(base_policy, epsilon=epsilon)"
      ]
    },
    {
      "cell_type": "code",
      "execution_count": 13,
      "metadata": {
        "id": "z9kV-ZLvbJVC",
        "colab": {
          "base_uri": "https://localhost:8080/"
        },
        "outputId": "0bfe63ed-6217-497b-b265-5cb1c4595c90"
      },
      "outputs": [
        {
          "output_type": "stream",
          "name": "stdout",
          "text": [
            "TimeStep(\n",
            "{'discount': <tf.Tensor: shape=(1,), dtype=float32, numpy=array([1.], dtype=float32)>,\n",
            " 'observation': {'action_mask': <tf.Tensor: shape=(1, 20), dtype=bool, numpy=\n",
            "array([[ True, False,  True,  True, False, False, False, False, False,\n",
            "         True, False, False,  True,  True, False,  True,  True,  True,\n",
            "        False,  True]])>,\n",
            "                 'observation': <tf.Tensor: shape=(1, 5, 4), dtype=int32, numpy=\n",
            "array([[[1, 1, 2, 0],\n",
            "        [0, 0, 0, 0],\n",
            "        [3, 3, 3, 1],\n",
            "        [3, 1, 2, 0],\n",
            "        [2, 2, 0, 0]]], dtype=int32)>},\n",
            " 'reward': <tf.Tensor: shape=(1,), dtype=float32, numpy=array([0.], dtype=float32)>,\n",
            " 'step_type': <tf.Tensor: shape=(1,), dtype=int32, numpy=array([0], dtype=int32)>})\n"
          ]
        },
        {
          "output_type": "execute_result",
          "data": {
            "text/plain": [
              "PolicyStep(action=<tf.Tensor: shape=(1,), dtype=int32, numpy=array([16], dtype=int32)>, state=(), info=())"
            ]
          },
          "metadata": {},
          "execution_count": 13
        }
      ],
      "source": [
        "# example of greedy policy choosing action\n",
        "example_py_env = SortWaterEnv.WaterSortEnv(num_bottles=num_bottles, water_level=water_level, random_init=True)\n",
        "example_env = tf_py_environment.TFPyEnvironment(example_py_env)\n",
        "time_step = example_env.reset()\n",
        "print(time_step)\n",
        "epsilon_greedy_policy.action(time_step)"
      ]
    },
    {
      "cell_type": "code",
      "execution_count": 14,
      "metadata": {
        "id": "_0MKdny2bK-Q"
      },
      "outputs": [],
      "source": [
        "def compute_avg_return(environment, policy, num_episodes=10):\n",
        "\n",
        "  total_return = 0.0\n",
        "  for _ in range(num_episodes):\n",
        "\n",
        "    time_step = environment.reset()\n",
        "    episode_return = 0.0\n",
        "\n",
        "    while not time_step.is_last():\n",
        "      action_step = policy.action(time_step)\n",
        "      time_step = environment.step(action_step.action)\n",
        "      episode_return += time_step.reward\n",
        "    total_return += episode_return\n",
        "\n",
        "  avg_return = total_return / num_episodes\n",
        "  return avg_return.numpy()[0]"
      ]
    },
    {
      "cell_type": "code",
      "execution_count": 15,
      "metadata": {
        "id": "ZuqXjbWrbMQY",
        "colab": {
          "base_uri": "https://localhost:8080/"
        },
        "outputId": "831adfe4-cd1e-406b-8187-1ac66751e23f"
      },
      "outputs": [
        {
          "output_type": "execute_result",
          "data": {
            "text/plain": [
              "-0.62"
            ]
          },
          "metadata": {},
          "execution_count": 15
        }
      ],
      "source": [
        "# an example\n",
        "compute_avg_return(eval_env, epsilon_greedy_policy, num_eval_episodes)"
      ]
    },
    {
      "cell_type": "code",
      "execution_count": 16,
      "metadata": {
        "id": "CQzc5_e4bP53"
      },
      "outputs": [],
      "source": [
        "################# Replay buffer #################\n",
        "table_name = 'uniform_table'\n",
        "replay_buffer_signature = tensor_spec.from_spec(\n",
        "      agent.collect_data_spec)\n",
        "replay_buffer_signature = tensor_spec.add_outer_dim(\n",
        "    replay_buffer_signature)\n",
        "\n",
        "table = reverb.Table(\n",
        "    table_name,\n",
        "    max_size=replay_buffer_max_length,\n",
        "    sampler=reverb.selectors.Uniform(),\n",
        "    remover=reverb.selectors.Fifo(),\n",
        "    rate_limiter=reverb.rate_limiters.MinSize(1),\n",
        "    signature=replay_buffer_signature)\n",
        "\n",
        "reverb_server = reverb.Server([table])\n",
        "\n",
        "replay_buffer = reverb_replay_buffer.ReverbReplayBuffer(\n",
        "    agent.collect_data_spec,\n",
        "    table_name=table_name,\n",
        "    sequence_length=2,\n",
        "    local_server=reverb_server)\n",
        "\n",
        "rb_observer = reverb_utils.ReverbAddTrajectoryObserver(\n",
        "  replay_buffer.py_client,\n",
        "  table_name,\n",
        "  sequence_length=2)"
      ]
    },
    {
      "cell_type": "code",
      "execution_count": 17,
      "metadata": {
        "id": "0XbLZjCtb__-",
        "colab": {
          "base_uri": "https://localhost:8080/"
        },
        "outputId": "b824aecb-6c73-416e-a7fa-637f12868388"
      },
      "outputs": [
        {
          "output_type": "execute_result",
          "data": {
            "text/plain": [
              "_TupleWrapper(Trajectory(\n",
              "{'action': BoundedTensorSpec(shape=(), dtype=tf.int32, name='action', minimum=array(0, dtype=int32), maximum=array(19, dtype=int32)),\n",
              " 'discount': BoundedTensorSpec(shape=(), dtype=tf.float32, name='discount', minimum=array(0., dtype=float32), maximum=array(1., dtype=float32)),\n",
              " 'next_step_type': TensorSpec(shape=(), dtype=tf.int32, name='step_type'),\n",
              " 'observation': DictWrapper({'observation': BoundedTensorSpec(shape=(5, 4), dtype=tf.int32, name='observation', minimum=array(0, dtype=int32), maximum=array(3, dtype=int32)), 'action_mask': TensorSpec(shape=(20,), dtype=tf.bool, name='action_mask')}),\n",
              " 'policy_info': (),\n",
              " 'reward': TensorSpec(shape=(), dtype=tf.float32, name='reward'),\n",
              " 'step_type': TensorSpec(shape=(), dtype=tf.int32, name='step_type')}))"
            ]
          },
          "metadata": {},
          "execution_count": 17
        }
      ],
      "source": [
        "agent.collect_data_spec"
      ]
    },
    {
      "cell_type": "code",
      "execution_count": 18,
      "metadata": {
        "id": "TeCbnlphcesk",
        "colab": {
          "base_uri": "https://localhost:8080/"
        },
        "outputId": "dd1b66a6-d889-436f-8c46-298acc564956"
      },
      "outputs": [
        {
          "output_type": "execute_result",
          "data": {
            "text/plain": [
              "('step_type',\n",
              " 'observation',\n",
              " 'action',\n",
              " 'policy_info',\n",
              " 'next_step_type',\n",
              " 'reward',\n",
              " 'discount')"
            ]
          },
          "metadata": {},
          "execution_count": 18
        }
      ],
      "source": [
        "agent.collect_data_spec._fields"
      ]
    },
    {
      "cell_type": "code",
      "execution_count": 19,
      "metadata": {
        "id": "X3Hv74IhckJK",
        "colab": {
          "base_uri": "https://localhost:8080/"
        },
        "outputId": "ea26b3f2-519f-4497-a49f-e2de23be019f"
      },
      "outputs": [
        {
          "output_type": "execute_result",
          "data": {
            "text/plain": [
              "(TimeStep(\n",
              " {'discount': array(1., dtype=float32),\n",
              "  'observation': {'action_mask': array([ True,  True, False, False, False, False, False, False,  True,\n",
              "         True, False, False, False,  True, False, False, False,  True,\n",
              "        False, False]),\n",
              "                  'observation': array([[1, 2, 2, 0],\n",
              "        [0, 0, 0, 0],\n",
              "        [2, 0, 0, 0],\n",
              "        [1, 3, 3, 1],\n",
              "        [1, 2, 3, 3]], dtype=int32)},\n",
              "  'reward': array(0., dtype=float32),\n",
              "  'step_type': array(1, dtype=int32)}),\n",
              " ())"
            ]
          },
          "metadata": {},
          "execution_count": 19
        }
      ],
      "source": [
        "# an example.\n",
        "py_driver.PyDriver(\n",
        "    train_py_env,\n",
        "    py_tf_eager_policy.PyTFEagerPolicy(\n",
        "      epsilon_greedy_policy, use_tf_function=True),\n",
        "    [rb_observer],\n",
        "    max_steps=initial_collect_steps).run(train_py_env.reset())"
      ]
    },
    {
      "cell_type": "code",
      "source": [
        "env.get_state()"
      ],
      "metadata": {
        "id": "ohhyBZROzNh-",
        "colab": {
          "base_uri": "https://localhost:8080/"
        },
        "outputId": "bb4ec95c-447c-4bb8-9f20-a5064ac0c7ea"
      },
      "execution_count": 20,
      "outputs": [
        {
          "output_type": "execute_result",
          "data": {
            "text/plain": [
              "{'observation': array([[1, 3, 0, 0],\n",
              "        [2, 1, 0, 0],\n",
              "        [3, 3, 2, 1],\n",
              "        [2, 1, 2, 3],\n",
              "        [0, 0, 0, 0]], dtype=int32),\n",
              " 'action_mask': array([False, False, False,  True, False, False, False,  True, False,\n",
              "         True, False,  True,  True, False, False,  True, False, False,\n",
              "        False, False])}"
            ]
          },
          "metadata": {},
          "execution_count": 20
        }
      ]
    },
    {
      "cell_type": "code",
      "execution_count": 21,
      "metadata": {
        "id": "nh7SqXgkdYNu",
        "colab": {
          "base_uri": "https://localhost:8080/"
        },
        "outputId": "915566c0-b659-4812-ad51-48f659c36283"
      },
      "outputs": [
        {
          "output_type": "execute_result",
          "data": {
            "text/plain": [
              "<_PrefetchDataset element_spec=(Trajectory(\n",
              "{'action': TensorSpec(shape=(64, 2), dtype=tf.int32, name=None),\n",
              " 'discount': TensorSpec(shape=(64, 2), dtype=tf.float32, name=None),\n",
              " 'next_step_type': TensorSpec(shape=(64, 2), dtype=tf.int32, name=None),\n",
              " 'observation': DictWrapper({'observation': TensorSpec(shape=(64, 2, 5, 4), dtype=tf.int32, name=None), 'action_mask': TensorSpec(shape=(64, 2, 20), dtype=tf.bool, name=None)}),\n",
              " 'policy_info': (),\n",
              " 'reward': TensorSpec(shape=(64, 2), dtype=tf.float32, name=None),\n",
              " 'step_type': TensorSpec(shape=(64, 2), dtype=tf.int32, name=None)}), SampleInfo(key=TensorSpec(shape=(64, 2), dtype=tf.uint64, name=None), probability=TensorSpec(shape=(64, 2), dtype=tf.float64, name=None), table_size=TensorSpec(shape=(64, 2), dtype=tf.int64, name=None), priority=TensorSpec(shape=(64, 2), dtype=tf.float64, name=None), times_sampled=TensorSpec(shape=(64, 2), dtype=tf.int32, name=None)))>"
            ]
          },
          "metadata": {},
          "execution_count": 21
        }
      ],
      "source": [
        "dataset = replay_buffer.as_dataset(\n",
        "    num_parallel_calls=3,\n",
        "    sample_batch_size=batch_size,\n",
        "    num_steps=2).prefetch(3)\n",
        "\n",
        "dataset"
      ]
    },
    {
      "cell_type": "code",
      "execution_count": 22,
      "metadata": {
        "id": "Mp0I59Vwd11M"
      },
      "outputs": [],
      "source": [
        "iterator = iter(dataset)"
      ]
    },
    {
      "cell_type": "code",
      "execution_count": 23,
      "metadata": {
        "id": "pqBPd98nu52O"
      },
      "outputs": [],
      "source": [
        "# demo: only 1 episode\n",
        "agent.train = common.function(agent.train)\n",
        "\n",
        "agent.train_step_counter.assign(0)\n",
        "\n",
        "avg_return = compute_avg_return(eval_env, agent.policy, 1)"
      ]
    },
    {
      "cell_type": "code",
      "source": [
        "try:\n",
        "  %%time\n",
        "except:\n",
        "  pass\n",
        "\n",
        "# (Optional) Optimize by wrapping some of the code in a graph using TF function.\n",
        "agent.train = common.function(agent.train)\n",
        "\n",
        "# Reset the train step.\n",
        "agent.train_step_counter.assign(0)\n",
        "\n",
        "# Evaluate the agent's policy once before training.\n",
        "avg_return = compute_avg_return(eval_env, agent.policy, num_eval_episodes)\n",
        "returns = [avg_return]\n",
        "\n",
        "# Reset the environment.\n",
        "time_step = train_py_env.reset()\n",
        "\n",
        "# Create a driver to collect experience.\n",
        "collect_driver = py_driver.PyDriver(\n",
        "    train_py_env,\n",
        "    py_tf_eager_policy.PyTFEagerPolicy(\n",
        "      agent.collect_policy, use_tf_function=True),\n",
        "    [rb_observer],\n",
        "    max_steps=collect_steps_per_iteration)\n",
        "\n",
        "######### early stopping ##########\n",
        "# set save direction\n",
        "tempdir = os.getenv(\"TEST_TMPDIR\", tempfile.gettempdir())\n",
        "# checkpointer\n",
        "# checkpoint_dir = os.path.join(tempdir, 'checkpoint')\n",
        "# train_checkpointer = common.Checkpointer(\n",
        "#     ckpt_dir=checkpoint_dir,\n",
        "#     max_to_keep=1,\n",
        "#     agent=agent,\n",
        "#     policy=agent.policy,\n",
        "#     replay_buffer=replay_buffer,\n",
        "#     global_step=train_step_counter\n",
        "# )\n",
        "# policy saver\n",
        "policy_dir = os.path.join(tempdir, 'policy')\n",
        "tf_policy_saver = policy_saver.PolicySaver(agent.policy)\n",
        "\n",
        "# some threshold\n",
        "#best_avg_return = -float('inf')\n",
        "best_avg_return = 0.7\n",
        "no_improvement_steps = 0\n",
        "early_stopping_threshold = 10\n",
        "earlystop = False\n",
        "iter_thres = 10000\n",
        "######### early stopping ##########\n",
        "\n",
        "\n",
        "iter_count = 0\n",
        "for _ in range(num_iterations):\n",
        "  iter_count += 1\n",
        "  #print('iter_count: ',iter_count)\n",
        "  # Collect a few steps and save to the replay buffer.\n",
        "  time_step, _ = collect_driver.run(time_step)\n",
        "\n",
        "  # Sample a batch of data from the buffer and update the agent's network.\n",
        "  experience, unused_info = next(iterator)\n",
        "  train_loss = agent.train(experience).loss\n",
        "\n",
        "  step = agent.train_step_counter.numpy()\n",
        "\n",
        "  if step % log_interval == 0:\n",
        "    print('step = {0}: loss = {1}'.format(step, train_loss))\n",
        "\n",
        "  if step % eval_interval == 0:\n",
        "    avg_return = compute_avg_return(eval_env, agent.policy, num_eval_episodes)\n",
        "    print('step = {0}: Average Return = {1}'.format(step, avg_return))\n",
        "    returns.append(avg_return)\n",
        "\n",
        "  ######### early stopping ##########\n",
        "    if avg_return > best_avg_return:\n",
        "      earlystop = True\n",
        "    if (avg_return > best_avg_return) and earlystop and (iter_count > iter_thres):\n",
        "      best_avg_return = avg_return\n",
        "      no_improvement_steps = 0\n",
        "      tf_policy_saver.save(policy_dir)  # save policy\n",
        "    elif earlystop and (iter_count > iter_thres):\n",
        "      no_improvement_steps += 1\n",
        "    print(\"no_improvement_steps: \",no_improvement_steps)\n",
        "  if no_improvement_steps >= early_stopping_threshold:\n",
        "    print(\"No improvement for {0} steps. Early stopping...\".format(no_improvement_steps))\n",
        "    break\n",
        "  ######### early stopping ##########"
      ],
      "metadata": {
        "id": "35k0m3HtqQyC",
        "colab": {
          "base_uri": "https://localhost:8080/"
        },
        "outputId": "d87c35b5-281f-4b72-e417-7752e22ed3a3"
      },
      "execution_count": 24,
      "outputs": [
        {
          "output_type": "stream",
          "name": "stderr",
          "text": [
            "WARNING:tensorflow:From /usr/local/lib/python3.10/dist-packages/tensorflow/python/util/dispatch.py:1260: calling foldr_v2 (from tensorflow.python.ops.functional_ops) with back_prop=False is deprecated and will be removed in a future version.\n",
            "Instructions for updating:\n",
            "back_prop=False is deprecated. Consider using tf.stop_gradient instead.\n",
            "Instead of:\n",
            "results = tf.foldr(fn, elems, back_prop=False)\n",
            "Use:\n",
            "results = tf.nest.map_structure(tf.stop_gradient, tf.foldr(fn, elems))\n"
          ]
        },
        {
          "output_type": "stream",
          "name": "stdout",
          "text": [
            "step = 200: loss = 1.1507967710494995\n",
            "step = 400: loss = 0.4280209541320801\n",
            "step = 500: Average Return = -0.36000001430511475\n",
            "no_improvement_steps:  0\n",
            "step = 600: loss = 0.04590790718793869\n",
            "step = 800: loss = 0.05128640681505203\n",
            "step = 1000: loss = 0.14781594276428223\n",
            "step = 1000: Average Return = 0.5\n",
            "no_improvement_steps:  0\n",
            "step = 1200: loss = 0.14554809033870697\n",
            "step = 1400: loss = 0.14966610074043274\n",
            "step = 1500: Average Return = 0.20000000298023224\n",
            "no_improvement_steps:  0\n",
            "step = 1600: loss = 0.17290325462818146\n",
            "step = 1800: loss = 0.17648619413375854\n",
            "step = 2000: loss = 0.055092789232730865\n",
            "step = 2000: Average Return = 0.5\n",
            "no_improvement_steps:  0\n",
            "step = 2200: loss = 0.09064777195453644\n",
            "step = 2400: loss = 0.17781877517700195\n",
            "step = 2500: Average Return = 0.11999999731779099\n",
            "no_improvement_steps:  0\n",
            "step = 2600: loss = 0.023498859256505966\n",
            "step = 2800: loss = 0.17777104675769806\n",
            "step = 3000: loss = 0.18853116035461426\n",
            "step = 3000: Average Return = 0.2199999988079071\n",
            "no_improvement_steps:  0\n",
            "step = 3200: loss = 0.17332260310649872\n",
            "step = 3400: loss = 0.09150770306587219\n",
            "step = 3500: Average Return = 0.2199999988079071\n",
            "no_improvement_steps:  0\n",
            "step = 3600: loss = 0.15120069682598114\n",
            "step = 3800: loss = 0.11382702738046646\n",
            "step = 4000: loss = 0.07944831252098083\n",
            "step = 4000: Average Return = 0.6000000238418579\n",
            "no_improvement_steps:  0\n",
            "step = 4200: loss = 0.19113756716251373\n",
            "step = 4400: loss = 0.02799825370311737\n",
            "step = 4500: Average Return = 0.41999998688697815\n",
            "no_improvement_steps:  0\n",
            "step = 4600: loss = 0.0899447500705719\n",
            "step = 4800: loss = 0.05882064253091812\n",
            "step = 5000: loss = 0.19124525785446167\n",
            "step = 5000: Average Return = 0.5\n",
            "no_improvement_steps:  0\n",
            "step = 5200: loss = 0.20294055342674255\n",
            "step = 5400: loss = 0.25697749853134155\n",
            "step = 5500: Average Return = 0.25999999046325684\n",
            "no_improvement_steps:  0\n",
            "step = 5600: loss = 0.09544533491134644\n",
            "step = 5800: loss = 0.2855108380317688\n",
            "step = 6000: loss = 0.145066499710083\n",
            "step = 6000: Average Return = -0.2199999988079071\n",
            "no_improvement_steps:  0\n",
            "step = 6200: loss = 0.053044699132442474\n",
            "step = 6400: loss = 0.04537910968065262\n",
            "step = 6500: Average Return = 0.2199999988079071\n",
            "no_improvement_steps:  0\n",
            "step = 6600: loss = 0.09831464290618896\n",
            "step = 6800: loss = 0.17190158367156982\n",
            "step = 7000: loss = 0.08771991729736328\n",
            "step = 7000: Average Return = 0.30000001192092896\n",
            "no_improvement_steps:  0\n",
            "step = 7200: loss = 0.0679917111992836\n",
            "step = 7400: loss = 0.26760560274124146\n",
            "step = 7500: Average Return = 0.46000000834465027\n",
            "no_improvement_steps:  0\n",
            "step = 7600: loss = 0.1690768003463745\n",
            "step = 7800: loss = 0.07546032965183258\n",
            "step = 8000: loss = 0.15422262251377106\n",
            "step = 8000: Average Return = 0.46000000834465027\n",
            "no_improvement_steps:  0\n",
            "step = 8200: loss = 0.10636993497610092\n",
            "step = 8400: loss = 0.1041734516620636\n",
            "step = 8500: Average Return = 0.46000000834465027\n",
            "no_improvement_steps:  0\n",
            "step = 8600: loss = 0.1929951310157776\n",
            "step = 8800: loss = 0.13617800176143646\n",
            "step = 9000: loss = 0.058183249086141586\n",
            "step = 9000: Average Return = 0.3799999952316284\n",
            "no_improvement_steps:  0\n",
            "step = 9200: loss = 0.07032394409179688\n",
            "step = 9400: loss = 0.01454632543027401\n",
            "step = 9500: Average Return = 0.5\n",
            "no_improvement_steps:  0\n",
            "step = 9600: loss = 0.24652931094169617\n",
            "step = 9800: loss = 0.05452565848827362\n",
            "step = 10000: loss = 0.021494291722774506\n",
            "step = 10000: Average Return = 0.36000001430511475\n",
            "no_improvement_steps:  0\n",
            "step = 10200: loss = 0.06792602688074112\n",
            "step = 10400: loss = 0.06811176240444183\n",
            "step = 10500: Average Return = -0.1599999964237213\n",
            "no_improvement_steps:  0\n",
            "step = 10600: loss = 0.06465858966112137\n",
            "step = 10800: loss = 0.15076111257076263\n",
            "step = 11000: loss = 0.11320415884256363\n",
            "step = 11000: Average Return = 0.5799999833106995\n",
            "no_improvement_steps:  0\n",
            "step = 11200: loss = 0.09079880267381668\n",
            "step = 11400: loss = 0.12626208364963531\n",
            "step = 11500: Average Return = 0.6200000047683716\n",
            "no_improvement_steps:  0\n",
            "step = 11600: loss = 0.1128338873386383\n",
            "step = 11800: loss = 0.1259383112192154\n",
            "step = 12000: loss = 0.013289475813508034\n",
            "step = 12000: Average Return = 0.14000000059604645\n",
            "no_improvement_steps:  0\n",
            "step = 12200: loss = 0.14473889768123627\n",
            "step = 12400: loss = 0.194991797208786\n",
            "step = 12500: Average Return = 0.5\n",
            "no_improvement_steps:  0\n",
            "step = 12600: loss = 0.016361065208911896\n",
            "step = 12800: loss = 0.12882408499717712\n",
            "step = 13000: loss = 0.06772821396589279\n",
            "step = 13000: Average Return = -0.019999999552965164\n",
            "no_improvement_steps:  0\n",
            "step = 13200: loss = 0.050561051815748215\n",
            "step = 13400: loss = 0.05796407535672188\n",
            "step = 13500: Average Return = 0.46000000834465027\n",
            "no_improvement_steps:  0\n",
            "step = 13600: loss = 0.09765570610761642\n",
            "step = 13800: loss = 0.10697266459465027\n",
            "step = 14000: loss = 0.22380433976650238\n",
            "step = 14000: Average Return = 0.699999988079071\n",
            "no_improvement_steps:  0\n",
            "step = 14200: loss = 0.019973253831267357\n",
            "step = 14400: loss = 0.008584506809711456\n",
            "step = 14500: Average Return = 0.6399999856948853\n",
            "no_improvement_steps:  0\n",
            "step = 14600: loss = 0.1520254909992218\n",
            "step = 14800: loss = 0.19549024105072021\n",
            "step = 15000: loss = 0.01814822480082512\n",
            "step = 15000: Average Return = 0.5400000214576721\n",
            "no_improvement_steps:  0\n",
            "step = 15200: loss = 0.12462732195854187\n",
            "step = 15400: loss = 0.14952825009822845\n",
            "step = 15500: Average Return = 0.4000000059604645\n",
            "no_improvement_steps:  0\n",
            "step = 15600: loss = 0.12064966559410095\n",
            "step = 15800: loss = 0.05326904356479645\n",
            "step = 16000: loss = 0.10555499792098999\n",
            "step = 16000: Average Return = 0.3799999952316284\n",
            "no_improvement_steps:  0\n",
            "step = 16200: loss = 0.1521759182214737\n",
            "step = 16400: loss = 0.005944218020886183\n",
            "step = 16500: Average Return = 0.2199999988079071\n",
            "no_improvement_steps:  0\n",
            "step = 16600: loss = 0.0518556609749794\n",
            "step = 16800: loss = 0.01377280056476593\n",
            "step = 17000: loss = 0.10974101722240448\n",
            "step = 17000: Average Return = 0.5199999809265137\n",
            "no_improvement_steps:  0\n",
            "step = 17200: loss = 0.16078829765319824\n",
            "step = 17400: loss = 0.014800130389630795\n",
            "step = 17500: Average Return = 0.5400000214576721\n",
            "no_improvement_steps:  0\n",
            "step = 17600: loss = 0.05893940106034279\n",
            "step = 17800: loss = 0.01787012815475464\n",
            "step = 18000: loss = 0.13803690671920776\n",
            "step = 18000: Average Return = 0.6600000262260437\n",
            "no_improvement_steps:  0\n",
            "step = 18200: loss = 0.1890004575252533\n",
            "step = 18400: loss = 0.05484258010983467\n",
            "step = 18500: Average Return = 0.5400000214576721\n",
            "no_improvement_steps:  0\n",
            "step = 18600: loss = 0.008112995885312557\n",
            "step = 18800: loss = 0.20250380039215088\n",
            "step = 19000: loss = 0.06361109763383865\n",
            "step = 19000: Average Return = 0.6800000071525574\n",
            "no_improvement_steps:  0\n",
            "step = 19200: loss = 0.07127977907657623\n",
            "step = 19400: loss = 0.09161820262670517\n",
            "step = 19500: Average Return = 0.4399999976158142\n",
            "no_improvement_steps:  0\n",
            "step = 19600: loss = 0.06768068671226501\n",
            "step = 19800: loss = 0.008553951978683472\n",
            "step = 20000: loss = 0.30805689096450806\n",
            "step = 20000: Average Return = 0.6800000071525574\n",
            "no_improvement_steps:  0\n",
            "step = 20200: loss = 0.0677172988653183\n",
            "step = 20400: loss = 0.11932739615440369\n",
            "step = 20500: Average Return = 0.6399999856948853\n",
            "no_improvement_steps:  0\n",
            "step = 20600: loss = 0.10900629311800003\n",
            "step = 20800: loss = 0.05633503571152687\n",
            "step = 21000: loss = 0.07004324346780777\n",
            "step = 21000: Average Return = 0.5199999809265137\n",
            "no_improvement_steps:  0\n",
            "step = 21200: loss = 0.12204678356647491\n",
            "step = 21400: loss = 0.05180995911359787\n",
            "step = 21500: Average Return = 0.6800000071525574\n",
            "no_improvement_steps:  0\n",
            "step = 21600: loss = 0.07043013721704483\n",
            "step = 21800: loss = 0.06074487417936325\n",
            "step = 22000: loss = 0.11364033818244934\n",
            "step = 22000: Average Return = 0.6800000071525574\n",
            "no_improvement_steps:  0\n",
            "step = 22200: loss = 0.11249351501464844\n",
            "step = 22400: loss = 0.057986803352832794\n",
            "step = 22500: Average Return = 0.699999988079071\n",
            "no_improvement_steps:  0\n",
            "step = 22600: loss = 0.043895408511161804\n",
            "step = 22800: loss = 0.10198089480400085\n",
            "step = 23000: loss = 0.1657189130783081\n",
            "step = 23000: Average Return = 0.36000001430511475\n",
            "no_improvement_steps:  0\n",
            "step = 23200: loss = 0.056407324969768524\n",
            "step = 23400: loss = 0.134335458278656\n"
          ]
        },
        {
          "output_type": "stream",
          "name": "stderr",
          "text": [
            "WARNING:absl:`0/step_type` is not a valid tf.function parameter name. Sanitizing to `arg_0_step_type`.\n",
            "WARNING:absl:`0/reward` is not a valid tf.function parameter name. Sanitizing to `arg_0_reward`.\n",
            "WARNING:absl:`0/discount` is not a valid tf.function parameter name. Sanitizing to `arg_0_discount`.\n",
            "WARNING:absl:`0/observation/action_mask` is not a valid tf.function parameter name. Sanitizing to `arg_0_observation_action_mask`.\n",
            "WARNING:absl:`0/observation/observation` is not a valid tf.function parameter name. Sanitizing to `arg_0_observation_observation`.\n"
          ]
        },
        {
          "output_type": "stream",
          "name": "stdout",
          "text": [
            "step = 23500: Average Return = 0.7799999713897705\n"
          ]
        },
        {
          "output_type": "stream",
          "name": "stderr",
          "text": [
            "/usr/local/lib/python3.10/dist-packages/tensorflow/python/saved_model/nested_structure_coder.py:458: UserWarning: Encoding a StructuredValue with type tfp.distributions.Deterministic_ACTTypeSpec; loading this StructuredValue will require that this type be imported and registered.\n",
            "  warnings.warn(\"Encoding a StructuredValue with type %s; loading this \"\n"
          ]
        },
        {
          "output_type": "stream",
          "name": "stdout",
          "text": [
            "no_improvement_steps:  0\n",
            "step = 23600: loss = 0.06432004272937775\n",
            "step = 23800: loss = 0.14472174644470215\n",
            "step = 24000: loss = 0.10520385950803757\n",
            "step = 24000: Average Return = 0.699999988079071\n",
            "no_improvement_steps:  1\n",
            "step = 24200: loss = 0.009718128480017185\n",
            "step = 24400: loss = 0.015867535024881363\n",
            "step = 24500: Average Return = 0.3799999952316284\n",
            "no_improvement_steps:  2\n",
            "step = 24600: loss = 0.06250699609518051\n",
            "step = 24800: loss = 0.10640568286180496\n",
            "step = 25000: loss = 0.16893726587295532\n",
            "step = 25000: Average Return = 0.6399999856948853\n",
            "no_improvement_steps:  3\n",
            "step = 25200: loss = 0.06641919165849686\n",
            "step = 25400: loss = 0.15769842267036438\n",
            "step = 25500: Average Return = 0.8399999737739563\n"
          ]
        },
        {
          "output_type": "stream",
          "name": "stderr",
          "text": [
            "/usr/local/lib/python3.10/dist-packages/tensorflow/python/saved_model/nested_structure_coder.py:458: UserWarning: Encoding a StructuredValue with type tfp.distributions.Deterministic_ACTTypeSpec; loading this StructuredValue will require that this type be imported and registered.\n",
            "  warnings.warn(\"Encoding a StructuredValue with type %s; loading this \"\n"
          ]
        },
        {
          "output_type": "stream",
          "name": "stdout",
          "text": [
            "no_improvement_steps:  0\n",
            "step = 25600: loss = 0.12903526425361633\n",
            "step = 25800: loss = 0.06508322060108185\n",
            "step = 26000: loss = 0.008351940661668777\n",
            "step = 26000: Average Return = 0.699999988079071\n",
            "no_improvement_steps:  1\n",
            "step = 26200: loss = 0.06550487875938416\n",
            "step = 26400: loss = 0.2228366732597351\n",
            "step = 26500: Average Return = 0.6399999856948853\n",
            "no_improvement_steps:  2\n",
            "step = 26600: loss = 0.0506364144384861\n",
            "step = 26800: loss = 0.06891576945781708\n",
            "step = 27000: loss = 0.054261934012174606\n",
            "step = 27000: Average Return = 0.8199999928474426\n",
            "no_improvement_steps:  3\n",
            "step = 27200: loss = 0.009603609330952168\n",
            "step = 27400: loss = 0.06454941630363464\n",
            "step = 27500: Average Return = 0.5\n",
            "no_improvement_steps:  4\n",
            "step = 27600: loss = 0.10485835373401642\n",
            "step = 27800: loss = 0.009281742386519909\n",
            "step = 28000: loss = 0.13133902847766876\n",
            "step = 28000: Average Return = 0.6200000047683716\n",
            "no_improvement_steps:  5\n",
            "step = 28200: loss = 0.06855971366167068\n",
            "step = 28400: loss = 0.057328417897224426\n",
            "step = 28500: Average Return = 0.6000000238418579\n",
            "no_improvement_steps:  6\n",
            "step = 28600: loss = 0.08944997191429138\n",
            "step = 28800: loss = 0.07897289097309113\n",
            "step = 29000: loss = 0.14402389526367188\n",
            "step = 29000: Average Return = 0.5199999809265137\n",
            "no_improvement_steps:  7\n",
            "step = 29200: loss = 0.11683690547943115\n",
            "step = 29400: loss = 0.1659546196460724\n",
            "step = 29500: Average Return = 0.7400000095367432\n",
            "no_improvement_steps:  8\n",
            "step = 29600: loss = 0.014054873958230019\n",
            "step = 29800: loss = 0.06343524903059006\n",
            "step = 30000: loss = 0.06605205684900284\n",
            "step = 30000: Average Return = 0.7599999904632568\n",
            "no_improvement_steps:  9\n",
            "step = 30200: loss = 0.06381086260080338\n",
            "step = 30400: loss = 0.10810481011867523\n",
            "step = 30500: Average Return = 0.2199999988079071\n",
            "no_improvement_steps:  10\n",
            "No improvement for 10 steps. Early stopping...\n"
          ]
        }
      ]
    },
    {
      "cell_type": "code",
      "source": [
        "saved_policy = tf.saved_model.load(policy_dir)"
      ],
      "metadata": {
        "id": "D9He1Uj9s6ur"
      },
      "execution_count": 25,
      "outputs": []
    },
    {
      "cell_type": "code",
      "source": [
        "avg_return = compute_avg_return(eval_env, saved_policy, 1000)"
      ],
      "metadata": {
        "id": "wC5lJb8es9Lk"
      },
      "execution_count": 33,
      "outputs": []
    },
    {
      "cell_type": "code",
      "source": [
        "avg_return"
      ],
      "metadata": {
        "id": "oW38avHXtE_5",
        "colab": {
          "base_uri": "https://localhost:8080/"
        },
        "outputId": "8a0eb7bc-3ab1-4e61-d561-e46aad988218"
      },
      "execution_count": 34,
      "outputs": [
        {
          "output_type": "execute_result",
          "data": {
            "text/plain": [
              "0.774"
            ]
          },
          "metadata": {},
          "execution_count": 34
        }
      ]
    },
    {
      "cell_type": "code",
      "source": [
        "avg_return = compute_avg_return(train_env, saved_policy, 1000)"
      ],
      "metadata": {
        "id": "JbX81ul_0wMc"
      },
      "execution_count": 35,
      "outputs": []
    },
    {
      "cell_type": "code",
      "source": [
        "avg_return"
      ],
      "metadata": {
        "id": "CCKzVR_U0wPj",
        "colab": {
          "base_uri": "https://localhost:8080/"
        },
        "outputId": "850a56ca-2e7d-4025-b402-d6bf633afbb5"
      },
      "execution_count": 36,
      "outputs": [
        {
          "output_type": "execute_result",
          "data": {
            "text/plain": [
              "0.802"
            ]
          },
          "metadata": {},
          "execution_count": 36
        }
      ]
    },
    {
      "cell_type": "code",
      "source": [
        "#iter_count"
      ],
      "metadata": {
        "id": "-iz2mSY5OG21"
      },
      "execution_count": 30,
      "outputs": []
    },
    {
      "cell_type": "code",
      "source": [
        "iterations = range(0, iter_count + 1, eval_interval)\n",
        "plt.plot(iterations, returns)\n",
        "plt.ylabel('Average Return')\n",
        "plt.xlabel('Iterations')\n",
        "#plt.ylim(top=250)"
      ],
      "metadata": {
        "id": "cASJ9TQpOIno",
        "colab": {
          "base_uri": "https://localhost:8080/",
          "height": 466
        },
        "outputId": "083b88b5-ba49-4db1-f422-9dfbfcd98940"
      },
      "execution_count": 32,
      "outputs": [
        {
          "output_type": "execute_result",
          "data": {
            "text/plain": [
              "Text(0.5, 0, 'Iterations')"
            ]
          },
          "metadata": {},
          "execution_count": 32
        },
        {
          "output_type": "display_data",
          "data": {
            "text/plain": [
              "<Figure size 640x480 with 1 Axes>"
            ],
            "image/png": "[encoded data removed]"
          },
          "metadata": {}
        }
      ]
    },
    {
      "cell_type": "markdown",
      "source": [
        "可以加入early stopping试试。"
      ],
      "metadata": {
        "id": "j14O7l9hF7ZD"
      }
    },
    {
      "cell_type": "code",
      "source": [],
      "metadata": {
        "id": "KNIuFszNF-PS"
      },
      "execution_count": null,
      "outputs": []
    }
  ],
  "metadata": {
    "colab": {
      "provenance": []
    },
    "kernelspec": {
      "display_name": "Python 3",
      "name": "python3"
    },
    "language_info": {
      "name": "python"
    }
  },
  "nbformat": 4,
  "nbformat_minor": 0
}