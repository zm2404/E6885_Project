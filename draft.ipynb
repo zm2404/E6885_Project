{
 "cells": [
  {
   "cell_type": "code",
   "execution_count": 5,
   "id": "0c99e9d6",
   "metadata": {},
   "outputs": [],
   "source": [
    "import SortWaterEnv"
   ]
  },
  {
   "cell_type": "code",
   "execution_count": 6,
   "id": "9d51c74d",
   "metadata": {},
   "outputs": [],
   "source": [
    "env = SortWaterEnv.WaterSortEnv(num_bottles=5, water_level=4)"
   ]
  },
  {
   "cell_type": "code",
   "execution_count": 7,
   "id": "b5210d9b",
   "metadata": {},
   "outputs": [
    {
     "data": {
      "text/plain": [
       "[0, 0, 1, 1, 0, 0, 1, 1, 0, 0, 1, 1, 0, 0, 0, 0, 0, 0, 0, 0]"
      ]
     },
     "execution_count": 7,
     "metadata": {},
     "output_type": "execute_result"
    }
   ],
   "source": [
    "env.action_mask()"
   ]
  },
  {
   "cell_type": "code",
   "execution_count": 8,
   "id": "f751ffc5",
   "metadata": {},
   "outputs": [
    {
     "data": {
      "text/plain": [
       "[4, 4, 4, 0, 0]"
      ]
     },
     "execution_count": 8,
     "metadata": {},
     "output_type": "execute_result"
    }
   ],
   "source": [
    "env.bottles_capacity"
   ]
  },
  {
   "cell_type": "code",
   "execution_count": 9,
   "id": "1be6be99",
   "metadata": {},
   "outputs": [
    {
     "data": {
      "text/plain": [
       "TimeStep(\n",
       "{'discount': array(1., dtype=float32),\n",
       " 'observation': {'action_mask': array([False, False,  True,  True, False, False,  True,  True, False,\n",
       "       False,  True,  True, False, False, False, False, False, False,\n",
       "       False, False]),\n",
       "                 'observation': array([[1, 1, 2, 3],\n",
       "       [3, 2, 1, 2],\n",
       "       [1, 3, 3, 2],\n",
       "       [0, 0, 0, 0],\n",
       "       [0, 0, 0, 0]])},\n",
       " 'reward': array(0., dtype=float32),\n",
       " 'step_type': array(0)})"
      ]
     },
     "execution_count": 9,
     "metadata": {},
     "output_type": "execute_result"
    }
   ],
   "source": [
    "env.reset()"
   ]
  },
  {
   "cell_type": "code",
   "execution_count": 10,
   "id": "ee33a517",
   "metadata": {},
   "outputs": [
    {
     "data": {
      "text/plain": [
       "TimeStep(\n",
       "{'discount': array(1., dtype=float32),\n",
       " 'observation': {'action_mask': array([False, False, False,  True, False, False, False,  True, False,\n",
       "       False,  True,  True, False, False, False,  True, False, False,\n",
       "       False, False]),\n",
       "                 'observation': array([[1, 1, 2, 3],\n",
       "       [3, 2, 1, 0],\n",
       "       [1, 3, 3, 2],\n",
       "       [2, 0, 0, 0],\n",
       "       [0, 0, 0, 0]])},\n",
       " 'reward': array(0., dtype=float32),\n",
       " 'step_type': array(1)})"
      ]
     },
     "execution_count": 10,
     "metadata": {},
     "output_type": "execute_result"
    }
   ],
   "source": [
    "env.step(6)"
   ]
  },
  {
   "cell_type": "code",
   "execution_count": 11,
   "id": "00cf3d35",
   "metadata": {},
   "outputs": [
    {
     "data": {
      "text/plain": [
       "TimeStep(\n",
       "{'discount': array(1., dtype=float32),\n",
       " 'observation': {'action_mask': array([False,  True, False,  True, False, False, False,  True, False,\n",
       "       False, False,  True, False, False, False,  True, False, False,\n",
       "       False, False]),\n",
       "                 'observation': array([[1, 1, 2, 3],\n",
       "       [3, 2, 1, 0],\n",
       "       [1, 3, 3, 0],\n",
       "       [2, 2, 0, 0],\n",
       "       [0, 0, 0, 0]])},\n",
       " 'reward': array(0., dtype=float32),\n",
       " 'step_type': array(1)})"
      ]
     },
     "execution_count": 11,
     "metadata": {},
     "output_type": "execute_result"
    }
   ],
   "source": [
    "env.step(10)"
   ]
  },
  {
   "cell_type": "code",
   "execution_count": 12,
   "id": "a690b987",
   "metadata": {},
   "outputs": [
    {
     "data": {
      "text/plain": [
       "TimeStep(\n",
       "{'discount': array(1., dtype=float32),\n",
       " 'observation': {'action_mask': array([False, False,  True,  True, False, False, False,  True, False,\n",
       "       False, False,  True,  True, False, False,  True, False, False,\n",
       "       False, False]),\n",
       "                 'observation': array([[1, 1, 2, 0],\n",
       "       [3, 2, 1, 0],\n",
       "       [1, 3, 3, 3],\n",
       "       [2, 2, 0, 0],\n",
       "       [0, 0, 0, 0]])},\n",
       " 'reward': array(0., dtype=float32),\n",
       " 'step_type': array(1)})"
      ]
     },
     "execution_count": 12,
     "metadata": {},
     "output_type": "execute_result"
    }
   ],
   "source": [
    "env.step(1)"
   ]
  },
  {
   "cell_type": "code",
   "execution_count": 13,
   "id": "0cc734fe",
   "metadata": {},
   "outputs": [
    {
     "data": {
      "text/plain": [
       "TimeStep(\n",
       "{'discount': array(1., dtype=float32),\n",
       " 'observation': {'action_mask': array([ True, False, False,  True,  True, False, False,  True, False,\n",
       "       False, False,  True, False, False, False,  True, False, False,\n",
       "       False, False]),\n",
       "                 'observation': array([[1, 1, 0, 0],\n",
       "       [3, 2, 1, 0],\n",
       "       [1, 3, 3, 3],\n",
       "       [2, 2, 2, 0],\n",
       "       [0, 0, 0, 0]])},\n",
       " 'reward': array(0., dtype=float32),\n",
       " 'step_type': array(1)})"
      ]
     },
     "execution_count": 13,
     "metadata": {},
     "output_type": "execute_result"
    }
   ],
   "source": [
    "env.step(2)"
   ]
  },
  {
   "cell_type": "code",
   "execution_count": 14,
   "id": "ae102fed",
   "metadata": {},
   "outputs": [
    {
     "data": {
      "text/plain": [
       "TimeStep(\n",
       "{'discount': array(1., dtype=float32),\n",
       " 'observation': {'action_mask': array([False, False, False,  True, False, False,  True,  True, False,\n",
       "       False, False,  True, False,  True, False,  True, False, False,\n",
       "       False, False]),\n",
       "                 'observation': array([[1, 1, 1, 0],\n",
       "       [3, 2, 0, 0],\n",
       "       [1, 3, 3, 3],\n",
       "       [2, 2, 2, 0],\n",
       "       [0, 0, 0, 0]])},\n",
       " 'reward': array(0., dtype=float32),\n",
       " 'step_type': array(1)})"
      ]
     },
     "execution_count": 14,
     "metadata": {},
     "output_type": "execute_result"
    }
   ],
   "source": [
    "env.step(4)"
   ]
  },
  {
   "cell_type": "code",
   "execution_count": 15,
   "id": "b9587118",
   "metadata": {},
   "outputs": [
    {
     "data": {
      "text/plain": [
       "TimeStep(\n",
       "{'discount': array(1., dtype=float32),\n",
       " 'observation': {'action_mask': array([False, False, False,  True, False, False, False,  True, False,\n",
       "        True, False,  True, False, False, False,  True, False, False,\n",
       "       False, False]),\n",
       "                 'observation': array([[1, 1, 1, 0],\n",
       "       [3, 0, 0, 0],\n",
       "       [1, 3, 3, 3],\n",
       "       [2, 2, 2, 2],\n",
       "       [0, 0, 0, 0]])},\n",
       " 'reward': array(0., dtype=float32),\n",
       " 'step_type': array(1)})"
      ]
     },
     "execution_count": 15,
     "metadata": {},
     "output_type": "execute_result"
    }
   ],
   "source": [
    "env.step(6)"
   ]
  },
  {
   "cell_type": "code",
   "execution_count": 16,
   "id": "cc192617",
   "metadata": {},
   "outputs": [
    {
     "data": {
      "text/plain": [
       "TimeStep(\n",
       "{'discount': array(1., dtype=float32),\n",
       " 'observation': {'action_mask': array([False,  True, False,  True, False, False, False,  True,  True,\n",
       "       False, False,  True, False, False, False,  True, False, False,\n",
       "       False, False]),\n",
       "                 'observation': array([[1, 1, 1, 0],\n",
       "       [3, 3, 3, 3],\n",
       "       [1, 0, 0, 0],\n",
       "       [2, 2, 2, 2],\n",
       "       [0, 0, 0, 0]])},\n",
       " 'reward': array(0., dtype=float32),\n",
       " 'step_type': array(1)})"
      ]
     },
     "execution_count": 16,
     "metadata": {},
     "output_type": "execute_result"
    }
   ],
   "source": [
    "env.step(9)"
   ]
  },
  {
   "cell_type": "code",
   "execution_count": 17,
   "id": "b1b3d16a",
   "metadata": {},
   "outputs": [
    {
     "data": {
      "text/plain": [
       "TimeStep(\n",
       "{'discount': array(0., dtype=float32),\n",
       " 'observation': {'action_mask': array([False,  True, False,  True, False,  True, False,  True, False,\n",
       "       False, False, False, False, False,  True,  True, False, False,\n",
       "       False, False]),\n",
       "                 'observation': array([[1, 1, 1, 1],\n",
       "       [3, 3, 3, 3],\n",
       "       [0, 0, 0, 0],\n",
       "       [2, 2, 2, 2],\n",
       "       [0, 0, 0, 0]])},\n",
       " 'reward': array(1., dtype=float32),\n",
       " 'step_type': array(2)})"
      ]
     },
     "execution_count": 17,
     "metadata": {},
     "output_type": "execute_result"
    }
   ],
   "source": [
    "env.step(8)"
   ]
  },
  {
   "cell_type": "code",
   "execution_count": null,
   "id": "c7a27b13",
   "metadata": {},
   "outputs": [],
   "source": []
  }
 ],
 "metadata": {
  "kernelspec": {
   "display_name": "Python 3 (ipykernel)",
   "language": "python",
   "name": "python3"
  },
  "language_info": {
   "codemirror_mode": {
    "name": "ipython",
    "version": 3
   },
   "file_extension": ".py",
   "mimetype": "text/x-python",
   "name": "python",
   "nbconvert_exporter": "python",
   "pygments_lexer": "ipython3",
   "version": "3.10.9"
  }
 },
 "nbformat": 4,
 "nbformat_minor": 5
}
